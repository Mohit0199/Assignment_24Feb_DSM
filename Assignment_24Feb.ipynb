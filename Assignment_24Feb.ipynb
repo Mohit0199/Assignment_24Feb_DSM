{
 "cells": [
  {
   "cell_type": "code",
   "execution_count": 2,
   "id": "b9360a63-9320-4c2e-a097-40d22233889f",
   "metadata": {},
   "outputs": [],
   "source": [
    "import pandas as pd"
   ]
  },
  {
   "cell_type": "code",
   "execution_count": 13,
   "id": "9a97f6fa-249e-4309-82c8-277525219351",
   "metadata": {},
   "outputs": [
    {
     "name": "stdout",
     "output_type": "stream",
     "text": [
      "    Name  Age         City Category\n",
      "0  Alice   24     New York        A\n",
      "1    Bob   27  Los Angeles        B\n",
      "******************************\n",
      "             Age\n",
      "count   5.000000\n",
      "mean   26.800000\n",
      "std     3.962323\n",
      "min    22.000000\n",
      "25%    24.000000\n",
      "50%    27.000000\n",
      "75%    29.000000\n",
      "max    32.000000\n",
      "******************************\n",
      "<class 'pandas.core.frame.DataFrame'>\n",
      "RangeIndex: 5 entries, 0 to 4\n",
      "Data columns (total 4 columns):\n",
      " #   Column    Non-Null Count  Dtype \n",
      "---  ------    --------------  ----- \n",
      " 0   Name      5 non-null      object\n",
      " 1   Age       5 non-null      int64 \n",
      " 2   City      5 non-null      object\n",
      " 3   Category  5 non-null      object\n",
      "dtypes: int64(1), object(3)\n",
      "memory usage: 288.0+ bytes\n",
      "None\n",
      "******************************\n",
      "Category\n",
      "A    25.0\n",
      "B    29.5\n",
      "Name: Age, dtype: float64\n",
      "******************************\n",
      "      Name  Age Category\n",
      "0    Alice   24        A\n",
      "1      Bob   27        B\n",
      "2  Charlie   22        A\n",
      "3    David   32        B\n",
      "4      Eve   29        A\n"
     ]
    }
   ],
   "source": [
    "# Q1. List any five functions of the pandas library with execution.\n",
    "\n",
    "data = {\n",
    "    'Name': ['Alice', 'Bob', 'Charlie', 'David', 'Eve'],\n",
    "    'Age': [24, 27, 22, 32, 29],\n",
    "    'City': ['New York', 'Los Angeles', 'Chicago', 'Houston', 'Phoenix'],\n",
    "    'Category': ['A', 'B', 'A', 'B', 'A']\n",
    "}\n",
    "df = pd.DataFrame(data)\n",
    "print(df.head(2))\n",
    "print('*'*30)\n",
    "\n",
    "print(df.describe())\n",
    "print('*'*30)\n",
    "\n",
    "print(df.info())\n",
    "print('*'*30)\n",
    "\n",
    "print(df.groupby('Category')['Age'].mean())\n",
    "print('*'*30)\n",
    "\n",
    "print(df.drop('City', axis=1))"
   ]
  },
  {
   "cell_type": "code",
   "execution_count": 19,
   "id": "079c1882-b645-4759-9a58-c6387bda4ca9",
   "metadata": {},
   "outputs": [
    {
     "name": "stdout",
     "output_type": "stream",
     "text": [
      "Original DataFrame:\n",
      "   A  B  C\n",
      "0  1  4  7\n",
      "1  2  5  8\n",
      "2  3  6  9\n",
      "\n",
      "Re-indexed DataFrame:\n",
      "   A  B  C\n",
      "1  1  4  7\n",
      "3  2  5  8\n",
      "5  3  6  9\n"
     ]
    }
   ],
   "source": [
    "# Q2. Given a Pandas DataFrame df with columns 'A', 'B', and 'C', write a Python function to re-index the \n",
    "# DataFrame with a new index that starts from 1 and increments by 2 for each row.\n",
    "\n",
    "def reindex_dataframe(df):\n",
    "    new_index = range(1, 1 + 2 * len(df), 2)\n",
    "    df.index = new_index\n",
    "    return df\n",
    "\n",
    "data = {\n",
    "    'A': [1, 2, 3],\n",
    "    'B': [4, 5, 6],\n",
    "    'C': [7, 8, 9]\n",
    "}\n",
    "df = pd.DataFrame(data)\n",
    "\n",
    "print(\"Original DataFrame:\")\n",
    "print(df)\n",
    "\n",
    "# Re-indexing the DataFrame\n",
    "df_reindexed = reindex_dataframe(df)\n",
    "\n",
    "print(\"\\nRe-indexed DataFrame:\")\n",
    "print(df_reindexed)"
   ]
  },
  {
   "cell_type": "code",
   "execution_count": 23,
   "id": "3d0dae96-8d6d-4bad-8ec0-4dcca9d58ba8",
   "metadata": {},
   "outputs": [
    {
     "name": "stdout",
     "output_type": "stream",
     "text": [
      "the sum of the first three values, which is 60\n"
     ]
    }
   ],
   "source": [
    "# Q3. You have a Pandas DataFrame df with a column named 'Values'. Write a Python function that \n",
    "# iterates over the DataFrame and calculates the sum of the first three values in the 'Values' column. The \n",
    "# function should print the sum to the console\n",
    "# For example, if the 'Values' column of df contains the values [10, 20, 30, 40, 50], your function should \n",
    "# calculate and print the sum of the first three values, which is 60\n",
    "\n",
    "def sum_first_three(df):\n",
    "    if len(df) >= 3:\n",
    "        first_three_values = df['Values'].iloc[:3]\n",
    "\n",
    "        sum_values = first_three_values.sum()\n",
    "\n",
    "        print(f\"the sum of the first three values, which is {sum_values}\")\n",
    "    \n",
    "data = {\n",
    "    'Values': [10, 20, 30, 40, 50]\n",
    "}\n",
    "df = pd.DataFrame(data)\n",
    "\n",
    "sum_first_three(df)"
   ]
  },
  {
   "cell_type": "code",
   "execution_count": 24,
   "id": "377037b0-c0dc-45b5-b846-656662ee44c4",
   "metadata": {},
   "outputs": [
    {
     "name": "stdout",
     "output_type": "stream",
     "text": [
      "                                                Text  Word_Count\n",
      "0                        This is the first sentence.           5\n",
      "1                               Here is another one.           4\n",
      "2                 And the third sentence comes here.           6\n",
      "3  This one is a bit longer, with more words to c...          11\n"
     ]
    }
   ],
   "source": [
    "# Q4. Given a Pandas DataFrame df with a column 'Text', write a Python function to create a new column \n",
    "# 'Word_Count' that contains the number of words in each row of the 'Text' column\n",
    "\n",
    "def count_words(text):\n",
    "    words = text.split()\n",
    "    return len(words)\n",
    "\n",
    "data = {\n",
    "    'Text': [\n",
    "        'This is the first sentence.',\n",
    "        'Here is another one.',\n",
    "        'And the third sentence comes here.',\n",
    "        'This one is a bit longer, with more words to count!'\n",
    "    ]\n",
    "}\n",
    "df = pd.DataFrame(data)\n",
    "\n",
    "df['Word_Count'] = df['Text'].apply(count_words)\n",
    "\n",
    "print(df)"
   ]
  },
  {
   "cell_type": "code",
   "execution_count": 25,
   "id": "097140a1-5c17-4298-9349-a8e8a87cbb52",
   "metadata": {},
   "outputs": [],
   "source": [
    "# Q5. How are DataFrame.size() and DataFrame.shape() different?\n",
    "\n",
    "## DataFrame.size : Returns the total number of elements in the DataFrame.\n",
    "\n",
    "## DataFrame.shape: Returns a tuple representing the dimensions of the DataFrame. \n",
    "## The tuple contains two values: the number of rows and the number of columns."
   ]
  },
  {
   "cell_type": "code",
   "execution_count": 26,
   "id": "38811e1f-c10d-40ee-951b-1e43aae1c6b9",
   "metadata": {},
   "outputs": [],
   "source": [
    "# Q6. Which function of pandas do we use to read an excel file?\n",
    "\n",
    "## pd.read_excel()"
   ]
  },
  {
   "cell_type": "code",
   "execution_count": 28,
   "id": "698c63b0-9599-4b71-a79f-21281f8978ef",
   "metadata": {},
   "outputs": [
    {
     "name": "stdout",
     "output_type": "stream",
     "text": [
      "                  Email  Username\n",
      "0  john.doe@example.com  john.doe\n",
      "1     alice@example.com     alice\n",
      "2        bob@domain.com       bob\n",
      "3   charlie@example.org   charlie\n"
     ]
    }
   ],
   "source": [
    "# Q7. You have a Pandas DataFrame df that contains a column named 'Email' that contains email \n",
    "# addresses in the format 'username@domain.com'. Write a Python function that creates a new column \n",
    "# 'Username' in df that contains only the username part of each email address\n",
    "# The username is the part of the email address that appears before the '@' symbol. For example, if the \n",
    "# email address is 'john.doe@example.com', the 'Username' column should contain 'john.doe'. Your \n",
    "# function should extract the username from each email address and store it in the new 'Username' \n",
    "# column\n",
    "\n",
    "def extract_username(email):\n",
    "    Username = email.split('@')[0]\n",
    "    return Username\n",
    "\n",
    "data = {\n",
    "    'Email': ['john.doe@example.com', 'alice@example.com', 'bob@domain.com', 'charlie@example.org']\n",
    "}\n",
    "df = pd.DataFrame(data)\n",
    "\n",
    "df['Username'] = df['Email'].apply(extract_username)\n",
    "\n",
    "print(df)"
   ]
  },
  {
   "cell_type": "code",
   "execution_count": 38,
   "id": "28c31b95-b64d-4f9e-a08e-b0cb3873b1a4",
   "metadata": {},
   "outputs": [
    {
     "name": "stdout",
     "output_type": "stream",
     "text": [
      "   A  B  C\n",
      "0  3  5  1\n",
      "1  8  2  7\n",
      "2  6  9  4\n",
      "3  2  3  5\n",
      "4  9  1  2\n",
      "********************\n",
      "   A  B  C\n",
      "1  8  2  7\n",
      "2  6  9  4\n",
      "4  9  1  2\n"
     ]
    }
   ],
   "source": [
    "# Q8. You have a Pandas DataFrame df with columns 'A', 'B', and 'C'. Write a Python function that selects \n",
    "# all rows where the value in column 'A' is greater than 5 and the value in column 'B' is less than 10. The \n",
    "# function should return a new DataFrame that contains only the selected rows\n",
    "\n",
    "def func(df):\n",
    "    return df[(df['A']>5) & (df['B']<10)]\n",
    "\n",
    "df = pd.DataFrame(data = [[3,5,1], [8,2,7], [6,9,4], [2,3,5], [9,1,2]], columns=['A', 'B', 'C'])\n",
    "print(df)\n",
    "\n",
    "print('*'*20)\n",
    "\n",
    "updated_df = func(df)\n",
    "print(updated_df)"
   ]
  },
  {
   "cell_type": "code",
   "execution_count": 39,
   "id": "cb9c7a1e-b96b-41b7-9b7f-3ffef3a4374e",
   "metadata": {},
   "outputs": [
    {
     "name": "stdout",
     "output_type": "stream",
     "text": [
      "Mean: 30.0, median: 30.0, standard deviation: 15.811388300841896\n"
     ]
    }
   ],
   "source": [
    "# Q9. Given a Pandas DataFrame df with a column 'Values', write a Python function to calculate the mean, \n",
    "# median, and standard deviation of the values in the 'Values' column\n",
    "\n",
    "def func(df):\n",
    "    mean = df['Values'].mean()\n",
    "    median = df['Values'].median()\n",
    "    std = df['Values'].std()\n",
    "    return f\"Mean: {mean}, median: {median}, standard deviation: {std}\"\n",
    "\n",
    "\n",
    "data = {\n",
    "    'Values': [10, 20, 30, 40, 50]\n",
    "}\n",
    "df = pd.DataFrame(data)\n",
    "print(func(df))"
   ]
  },
  {
   "cell_type": "code",
   "execution_count": 49,
   "id": "c942c39c-d695-4b41-b7f2-157be4bf4bd4",
   "metadata": {},
   "outputs": [
    {
     "name": "stdout",
     "output_type": "stream",
     "text": [
      "        Date  Sales  MovingAverage\n",
      "0 2024-07-14    200     200.000000\n",
      "1 2024-07-15    220     210.000000\n",
      "2 2024-07-16    250     223.333333\n",
      "3 2024-07-17    275     236.250000\n",
      "4 2024-07-18    300     249.000000\n",
      "5 2024-07-19    280     254.166667\n",
      "6 2024-07-20    270     256.428571\n",
      "7 2024-07-21    260     265.000000\n",
      "8 2024-07-22    290     275.000000\n",
      "9 2024-07-23    310     283.571429\n"
     ]
    }
   ],
   "source": [
    "# Q10. Given a Pandas DataFrame df with a column 'Sales' and a column 'Date', write a Python function to \n",
    "# create a new column 'MovingAverage' that contains the moving average of the sales for the past 7 days \n",
    "# for each row in the DataFrame. The moving average should be calculated using a window of size 7 and \n",
    "# should include the current day.\n",
    "\n",
    "def calculate_moving_average(df):\n",
    "    df = df.sort_values(by='Date')\n",
    "    df['MovingAverage'] = df['Sales'].rolling(window=7, min_periods=1).mean()\n",
    "    \n",
    "    return df\n",
    "\n",
    "data = {\n",
    "    'Date': pd.date_range(start='2024-07-14', end='2024-07-23'),\n",
    "    'Sales': [200, 220, 250, 275, 300, 280, 270, 260, 290, 310]\n",
    "}\n",
    "df = pd.DataFrame(data)\n",
    "\n",
    "df = calculate_moving_average(df)\n",
    "\n",
    "print(df)"
   ]
  },
  {
   "cell_type": "code",
   "execution_count": 52,
   "id": "dc83cd83-e251-4b68-abc9-7207091bb3cf",
   "metadata": {},
   "outputs": [
    {
     "name": "stdout",
     "output_type": "stream",
     "text": [
      "        Date    Weekday\n",
      "0 2024-07-14     Sunday\n",
      "1 2024-07-15     Monday\n",
      "2 2024-07-16    Tuesday\n",
      "3 2024-07-17  Wednesday\n",
      "4 2024-07-18   Thursday\n",
      "5 2024-07-19     Friday\n",
      "6 2024-07-20   Saturday\n",
      "7 2024-07-21     Sunday\n",
      "8 2024-07-22     Monday\n",
      "9 2024-07-23    Tuesday\n"
     ]
    }
   ],
   "source": [
    "# Q11. You have a Pandas DataFrame df with a column 'Date'. Write a Python function that creates a new \n",
    "# column 'Weekday' in the DataFrame. The 'Weekday' column should contain the weekday name (e.g. \n",
    "# Monday, Tuesday) corresponding to each date in the 'Date' column.\n",
    "\n",
    "def weekdays(df):\n",
    "    df['Weekday'] = df['Date'].dt.day_name()\n",
    "    return df\n",
    "\n",
    "\n",
    "data = {\n",
    "    'Date': pd.date_range(start='2024-07-14', end='2024-07-23')\n",
    "}\n",
    "df = pd.DataFrame(data)\n",
    "\n",
    "print(weekdays(df))"
   ]
  },
  {
   "cell_type": "code",
   "execution_count": 55,
   "id": "266d1d87-755a-4093-ba99-09b695668e85",
   "metadata": {},
   "outputs": [
    {
     "name": "stdout",
     "output_type": "stream",
     "text": [
      "        Date  Value\n",
      "1 2023-01-10    200\n",
      "2 2023-01-20    300\n",
      "4 2023-01-25    500\n"
     ]
    }
   ],
   "source": [
    "# Q12. Given a Pandas DataFrame df with a column 'Date' that contains timestamps, write a Python \n",
    "# function to select all rows where the date is between '2023-01-01' and '2023-01-31'\n",
    "\n",
    "def filter_dates(df):\n",
    "    df['Date'] = pd.to_datetime(df['Date'])\n",
    "    \n",
    "    start_date = pd.Timestamp('2023-01-01')\n",
    "    end_date = pd.Timestamp('2023-01-31')\n",
    "\n",
    "    filtered_df = df[(df['Date'] >= start_date) & (df['Date'] <= end_date)]\n",
    "    \n",
    "    return filtered_df\n",
    "\n",
    "\n",
    "data = {\n",
    "    'Date': ['2022-12-31', '2023-01-10', '2023-01-20', '2023-02-01', '2023-01-25'],\n",
    "    'Value': [100, 200, 300, 400, 500]\n",
    "}\n",
    "\n",
    "df = pd.DataFrame(data)\n",
    "\n",
    "\n",
    "filtered_df = filter_dates(df)\n",
    "print(filtered_df)"
   ]
  },
  {
   "cell_type": "code",
   "execution_count": 56,
   "id": "e1dd3303-5796-4cad-8e80-e873499eba55",
   "metadata": {},
   "outputs": [],
   "source": [
    "# Q13. To use the basic functions of pandas, what is the first and foremost necessary library that needs to \n",
    "# be imported?\n",
    "\n",
    "# To use the basic functions of pandas, the first and foremost necessary library that needs to be imported is \"pandas\""
   ]
  },
  {
   "cell_type": "code",
   "execution_count": null,
   "id": "38852d32-d5fd-4459-ab5d-bbf89fba09da",
   "metadata": {},
   "outputs": [],
   "source": []
  },
  {
   "cell_type": "code",
   "execution_count": null,
   "id": "c7c6083e-4792-42cf-9c0f-c281ca69a5e6",
   "metadata": {},
   "outputs": [],
   "source": []
  }
 ],
 "metadata": {
  "kernelspec": {
   "display_name": "Python 3 (ipykernel)",
   "language": "python",
   "name": "python3"
  },
  "language_info": {
   "codemirror_mode": {
    "name": "ipython",
    "version": 3
   },
   "file_extension": ".py",
   "mimetype": "text/x-python",
   "name": "python",
   "nbconvert_exporter": "python",
   "pygments_lexer": "ipython3",
   "version": "3.10.8"
  }
 },
 "nbformat": 4,
 "nbformat_minor": 5
}
